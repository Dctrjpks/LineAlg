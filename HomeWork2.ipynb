{
 "cells": [
  {
   "cell_type": "raw",
   "metadata": {},
   "source": [
    "1. Установить, какие произведения матриц 𝐴𝐵 и 𝐵𝐴\n",
    "\n",
    "определены, и найти размерности полученных матриц:\n",
    "\n",
    "а) 𝐴 — матрица 4×2, 𝐵 — матрица 4×2;\n",
    "б) 𝐴 — матрица 2×5, 𝐵 — матрица 5×3;\n",
    "в) 𝐴 — матрица 8×3, 𝐵 — матрица 3×8;\n",
    "г) 𝐴 — квадратная матрица 4×4, 𝐵 — квадратная матрица 4×4."
   ]
  },
  {
   "cell_type": "raw",
   "metadata": {},
   "source": [
    "а)н/о\n",
    "б)3*3\n",
    "в)8*8\n",
    "г)4*4"
   ]
  },
  {
   "cell_type": "raw",
   "metadata": {},
   "source": [
    "2. Найти сумму и произведение матриц 𝐴=(13−20) и 𝐵=(40−15)."
   ]
  },
  {
   "cell_type": "raw",
   "metadata": {},
   "source": [
    "А+В = (5 -3\n",
    "       3 5)\n",
    "А*В = (4 9\n",
    "       8 3)"
   ]
  },
  {
   "cell_type": "raw",
   "metadata": {},
   "source": [
    "3. Из закономерностей сложения и умножения матриц на число можно сделать вывод, что матрицы одного размера образуют линейное пространство. Вычислить линейную комбинацию 3𝐴−2𝐵+4𝐶\n",
    "для матриц 𝐴=(137−6), 𝐵=(025−1), 𝐶=(21−41)."
   ]
  },
  {
   "cell_type": "raw",
   "metadata": {},
   "source": [
    "S = (11, -5\n",
    "     9, -12)"
   ]
  },
  {
   "cell_type": "raw",
   "metadata": {},
   "source": [
    "4. Дана матрица \n",
    "𝐴 = (4,1\n",
    "     5,-2\n",
    "     2, 3)\n",
    "Вычислить 𝐴𝐴𝑇 и 𝐴𝑇𝐴"
   ]
  },
  {
   "cell_type": "raw",
   "metadata": {},
   "source": [
    "AT= (4, 5, 2\n",
    "     1, -2, 3)\n",
    "AAT = (17, 18, 11\n",
    "       18, 29,  4\n",
    "       11,  4, 13)\n",
    "\n",
    "ATA = (45,  0\n",
    "        0, 14)"
   ]
  },
  {
   "cell_type": "raw",
   "metadata": {},
   "source": [
    "5*. Написать на Python функцию для перемножения двух произвольных матриц, не используя NumPy."
   ]
  },
  {
   "cell_type": "code",
   "execution_count": null,
   "metadata": {},
   "outputs": [],
   "source": []
  },
  {
   "cell_type": "raw",
   "metadata": {},
   "source": [
    "1. Вычислить определитель:"
   ]
  },
  {
   "cell_type": "raw",
   "metadata": {},
   "source": [
    "a) 1 - Oсновное триг тождество \n",
    "б) 180\n",
    "в) 210"
   ]
  },
  {
   "cell_type": "raw",
   "metadata": {},
   "source": [
    "2. Определитель матрицы 𝐴 равен 4. Найти:\n",
    "а) 𝑑𝑒𝑡(𝐴2);\n",
    "б) 𝑑𝑒𝑡(𝐴𝑇);\n",
    "в) 𝑑𝑒𝑡(2𝐴)."
   ]
  },
  {
   "cell_type": "raw",
   "metadata": {},
   "source": [
    "а) 16;\n",
    "б) 4;\n",
    "в) 16."
   ]
  },
  {
   "cell_type": "raw",
   "metadata": {},
   "source": [
    " Доказать, что матрица вырожденная."
   ]
  },
  {
   "cell_type": "code",
   "execution_count": 7,
   "metadata": {},
   "outputs": [
    {
     "name": "stdout",
     "output_type": "stream",
     "text": [
      "Матрица A:\n",
      "[[ -2.   7.  -3.]\n",
      " [  4. -14.   6.]\n",
      " [  3.   7.  13.]]\n",
      "\n",
      "Определитель:\n",
      "0\n"
     ]
    }
   ],
   "source": [
    "import numpy as np\n",
    "a = np.array([[-2, 7, -3], [4, -14, 6], [3, 7, 13]], dtype=float)\n",
    "print(f'Матрица A:\\n{a}\\n')\n",
    "print(f'Определитель:\\n{np.linalg.det(a):.0f}')\n"
   ]
  },
  {
   "cell_type": "raw",
   "metadata": {},
   "source": []
  },
  {
   "cell_type": "raw",
   "metadata": {},
   "source": [
    "4. Найти ранг матрицы:"
   ]
  },
  {
   "cell_type": "code",
   "execution_count": 1,
   "metadata": {},
   "outputs": [
    {
     "name": "stdout",
     "output_type": "stream",
     "text": [
      "2\n"
     ]
    }
   ],
   "source": [
    "a = [[1,2,3], [1,1,1], [2,3,4]]\n",
    "ra = np.linalg.matrix_rank(a)\n",
    "print(ra)"
   ]
  },
  {
   "cell_type": "code",
   "execution_count": 2,
   "metadata": {},
   "outputs": [
    {
     "name": "stdout",
     "output_type": "stream",
     "text": [
      "3\n"
     ]
    }
   ],
   "source": [
    "a = [[0,0,2,1], [0,0,2,2],[0,0,4,3], [2,3,5,6]]\n",
    "ra = np.linalg.matrix_rank(a)\n",
    "print(ra)"
   ]
  },
  {
   "cell_type": "code",
   "execution_count": null,
   "metadata": {},
   "outputs": [],
   "source": []
  }
 ],
 "metadata": {
  "kernelspec": {
   "display_name": "Python 3",
   "language": "python",
   "name": "python3"
  },
  "language_info": {
   "codemirror_mode": {
    "name": "ipython",
    "version": 3
   },
   "file_extension": ".py",
   "mimetype": "text/x-python",
   "name": "python",
   "nbconvert_exporter": "python",
   "pygments_lexer": "ipython3",
   "version": "3.7.4"
  }
 },
 "nbformat": 4,
 "nbformat_minor": 2
}
